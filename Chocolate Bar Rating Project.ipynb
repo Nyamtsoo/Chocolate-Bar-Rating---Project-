{
 "cells": [
  {
   "cell_type": "markdown",
   "id": "64622a5d",
   "metadata": {},
   "source": [
    "### *** IMPORTING LIBRARIES AND DATA"
   ]
  },
  {
   "cell_type": "code",
   "execution_count": 1,
   "id": "3e32f865",
   "metadata": {},
   "outputs": [],
   "source": [
    "#import libraries\n",
    "import pandas as pd\n",
    "import numpy as np\n",
    "import os\n",
    "import matplotlib.pyplot as plt\n",
    "import seaborn as sns\n",
    "import scipy"
   ]
  },
  {
   "cell_type": "code",
   "execution_count": 2,
   "id": "4d9337f7",
   "metadata": {},
   "outputs": [],
   "source": [
    "# Creating a path to import data\n",
    "path = r'C:\\Users\\jnyam\\Documents\\Top Companies'"
   ]
  },
  {
   "cell_type": "code",
   "execution_count": 3,
   "id": "3fb68e04",
   "metadata": {},
   "outputs": [],
   "source": [
    "# Importing data\n",
    "df = pd.read_csv(os.path.join(path, 'Data','Original Data', 'choco.csv'))"
   ]
  },
  {
   "cell_type": "markdown",
   "id": "4bb59a02",
   "metadata": {},
   "source": [
    "### *** CLEANING DATA "
   ]
  },
  {
   "cell_type": "code",
   "execution_count": 4,
   "id": "54dbc2a7",
   "metadata": {
    "scrolled": true
   },
   "outputs": [
    {
     "data": {
      "text/html": [
       "<div>\n",
       "<style scoped>\n",
       "    .dataframe tbody tr th:only-of-type {\n",
       "        vertical-align: middle;\n",
       "    }\n",
       "\n",
       "    .dataframe tbody tr th {\n",
       "        vertical-align: top;\n",
       "    }\n",
       "\n",
       "    .dataframe thead th {\n",
       "        text-align: right;\n",
       "    }\n",
       "</style>\n",
       "<table border=\"1\" class=\"dataframe\">\n",
       "  <thead>\n",
       "    <tr style=\"text-align: right;\">\n",
       "      <th></th>\n",
       "      <th>id</th>\n",
       "      <th>manufacturer</th>\n",
       "      <th>company_location</th>\n",
       "      <th>year_reviewed</th>\n",
       "      <th>bean_origin</th>\n",
       "      <th>bar_name</th>\n",
       "      <th>cocoa_percent</th>\n",
       "      <th>num_ingredients</th>\n",
       "      <th>ingredients</th>\n",
       "      <th>review</th>\n",
       "      <th>rating</th>\n",
       "    </tr>\n",
       "  </thead>\n",
       "  <tbody>\n",
       "    <tr>\n",
       "      <th>0</th>\n",
       "      <td>2454</td>\n",
       "      <td>5150</td>\n",
       "      <td>U.S.A.</td>\n",
       "      <td>2019</td>\n",
       "      <td>Tanzania</td>\n",
       "      <td>Kokoa Kamili, batch 1</td>\n",
       "      <td>76.0</td>\n",
       "      <td>3.0</td>\n",
       "      <td>B,S,C</td>\n",
       "      <td>rich cocoa, fatty, bready</td>\n",
       "      <td>3.25</td>\n",
       "    </tr>\n",
       "    <tr>\n",
       "      <th>1</th>\n",
       "      <td>2458</td>\n",
       "      <td>5150</td>\n",
       "      <td>U.S.A.</td>\n",
       "      <td>2019</td>\n",
       "      <td>Dominican Republic</td>\n",
       "      <td>Zorzal, batch 1</td>\n",
       "      <td>76.0</td>\n",
       "      <td>3.0</td>\n",
       "      <td>B,S,C</td>\n",
       "      <td>cocoa, vegetal, savory</td>\n",
       "      <td>3.50</td>\n",
       "    </tr>\n",
       "    <tr>\n",
       "      <th>2</th>\n",
       "      <td>2454</td>\n",
       "      <td>5150</td>\n",
       "      <td>U.S.A.</td>\n",
       "      <td>2019</td>\n",
       "      <td>Madagascar</td>\n",
       "      <td>Bejofo Estate, batch 1</td>\n",
       "      <td>76.0</td>\n",
       "      <td>3.0</td>\n",
       "      <td>B,S,C</td>\n",
       "      <td>cocoa, blackberry, full body</td>\n",
       "      <td>3.75</td>\n",
       "    </tr>\n",
       "    <tr>\n",
       "      <th>3</th>\n",
       "      <td>2542</td>\n",
       "      <td>5150</td>\n",
       "      <td>U.S.A.</td>\n",
       "      <td>2021</td>\n",
       "      <td>Fiji</td>\n",
       "      <td>Matasawalevu, batch 1</td>\n",
       "      <td>68.0</td>\n",
       "      <td>3.0</td>\n",
       "      <td>B,S,C</td>\n",
       "      <td>chewy, off, rubbery</td>\n",
       "      <td>3.00</td>\n",
       "    </tr>\n",
       "    <tr>\n",
       "      <th>4</th>\n",
       "      <td>2546</td>\n",
       "      <td>5150</td>\n",
       "      <td>U.S.A.</td>\n",
       "      <td>2021</td>\n",
       "      <td>Venezuela</td>\n",
       "      <td>Sur del Lago, batch 1</td>\n",
       "      <td>72.0</td>\n",
       "      <td>3.0</td>\n",
       "      <td>B,S,C</td>\n",
       "      <td>fatty, earthy, moss, nutty,chalky</td>\n",
       "      <td>3.00</td>\n",
       "    </tr>\n",
       "  </tbody>\n",
       "</table>\n",
       "</div>"
      ],
      "text/plain": [
       "     id manufacturer company_location  year_reviewed         bean_origin  \\\n",
       "0  2454         5150           U.S.A.           2019            Tanzania   \n",
       "1  2458         5150           U.S.A.           2019  Dominican Republic   \n",
       "2  2454         5150           U.S.A.           2019          Madagascar   \n",
       "3  2542         5150           U.S.A.           2021                Fiji   \n",
       "4  2546         5150           U.S.A.           2021           Venezuela   \n",
       "\n",
       "                 bar_name  cocoa_percent  num_ingredients ingredients  \\\n",
       "0   Kokoa Kamili, batch 1           76.0              3.0       B,S,C   \n",
       "1         Zorzal, batch 1           76.0              3.0       B,S,C   \n",
       "2  Bejofo Estate, batch 1           76.0              3.0       B,S,C   \n",
       "3   Matasawalevu, batch 1           68.0              3.0       B,S,C   \n",
       "4   Sur del Lago, batch 1           72.0              3.0       B,S,C   \n",
       "\n",
       "                              review  rating  \n",
       "0          rich cocoa, fatty, bready    3.25  \n",
       "1             cocoa, vegetal, savory    3.50  \n",
       "2       cocoa, blackberry, full body    3.75  \n",
       "3                chewy, off, rubbery    3.00  \n",
       "4  fatty, earthy, moss, nutty,chalky    3.00  "
      ]
     },
     "execution_count": 4,
     "metadata": {},
     "output_type": "execute_result"
    }
   ],
   "source": [
    "# Checking head of data\n",
    "df.head()"
   ]
  },
  {
   "cell_type": "code",
   "execution_count": 5,
   "id": "75ea66be",
   "metadata": {
    "scrolled": true
   },
   "outputs": [
    {
     "data": {
      "text/plain": [
       "id                   0\n",
       "manufacturer         0\n",
       "company_location     0\n",
       "year_reviewed        0\n",
       "bean_origin          0\n",
       "bar_name             0\n",
       "cocoa_percent        0\n",
       "num_ingredients     87\n",
       "ingredients         87\n",
       "review               0\n",
       "rating               0\n",
       "dtype: int64"
      ]
     },
     "execution_count": 5,
     "metadata": {},
     "output_type": "execute_result"
    }
   ],
   "source": [
    "# Checking missing values\n",
    "df.isnull().sum()"
   ]
  },
  {
   "cell_type": "code",
   "execution_count": 6,
   "id": "904055e4",
   "metadata": {},
   "outputs": [],
   "source": [
    "# Addressing missing values\n",
    "df_nan=df[df['num_ingredients'].isnull()==True]"
   ]
  },
  {
   "cell_type": "code",
   "execution_count": 7,
   "id": "e1417eae",
   "metadata": {
    "scrolled": true
   },
   "outputs": [
    {
     "data": {
      "text/html": [
       "<div>\n",
       "<style scoped>\n",
       "    .dataframe tbody tr th:only-of-type {\n",
       "        vertical-align: middle;\n",
       "    }\n",
       "\n",
       "    .dataframe tbody tr th {\n",
       "        vertical-align: top;\n",
       "    }\n",
       "\n",
       "    .dataframe thead th {\n",
       "        text-align: right;\n",
       "    }\n",
       "</style>\n",
       "<table border=\"1\" class=\"dataframe\">\n",
       "  <thead>\n",
       "    <tr style=\"text-align: right;\">\n",
       "      <th></th>\n",
       "      <th>id</th>\n",
       "      <th>manufacturer</th>\n",
       "      <th>company_location</th>\n",
       "      <th>year_reviewed</th>\n",
       "      <th>bean_origin</th>\n",
       "      <th>bar_name</th>\n",
       "      <th>cocoa_percent</th>\n",
       "      <th>num_ingredients</th>\n",
       "      <th>ingredients</th>\n",
       "      <th>review</th>\n",
       "      <th>rating</th>\n",
       "    </tr>\n",
       "  </thead>\n",
       "  <tbody>\n",
       "    <tr>\n",
       "      <th>85</th>\n",
       "      <td>1964</td>\n",
       "      <td>Amazing Cacao</td>\n",
       "      <td>Russia</td>\n",
       "      <td>2017</td>\n",
       "      <td>Peru</td>\n",
       "      <td>Maranon</td>\n",
       "      <td>70.0</td>\n",
       "      <td>NaN</td>\n",
       "      <td>NaN</td>\n",
       "      <td>raisins, pungent</td>\n",
       "      <td>3.00</td>\n",
       "    </tr>\n",
       "    <tr>\n",
       "      <th>86</th>\n",
       "      <td>1964</td>\n",
       "      <td>Amazing Cacao</td>\n",
       "      <td>Russia</td>\n",
       "      <td>2017</td>\n",
       "      <td>Peru</td>\n",
       "      <td>Platan Bajo</td>\n",
       "      <td>70.0</td>\n",
       "      <td>NaN</td>\n",
       "      <td>NaN</td>\n",
       "      <td>few grits, blackcherry, licorice</td>\n",
       "      <td>3.50</td>\n",
       "    </tr>\n",
       "    <tr>\n",
       "      <th>164</th>\n",
       "      <td>486</td>\n",
       "      <td>Artisan du Chocolat</td>\n",
       "      <td>U.K.</td>\n",
       "      <td>2010</td>\n",
       "      <td>Venezuela</td>\n",
       "      <td>Venezuela</td>\n",
       "      <td>100.0</td>\n",
       "      <td>NaN</td>\n",
       "      <td>NaN</td>\n",
       "      <td>very nutty, very bitter</td>\n",
       "      <td>1.75</td>\n",
       "    </tr>\n",
       "    <tr>\n",
       "      <th>293</th>\n",
       "      <td>81</td>\n",
       "      <td>Bonnat</td>\n",
       "      <td>France</td>\n",
       "      <td>2006</td>\n",
       "      <td>Blend</td>\n",
       "      <td>One Hundred</td>\n",
       "      <td>100.0</td>\n",
       "      <td>NaN</td>\n",
       "      <td>NaN</td>\n",
       "      <td>acidic, bitter, dry</td>\n",
       "      <td>1.50</td>\n",
       "    </tr>\n",
       "    <tr>\n",
       "      <th>323</th>\n",
       "      <td>341</td>\n",
       "      <td>Bouga Cacao (Tulicorp)</td>\n",
       "      <td>Ecuador</td>\n",
       "      <td>2009</td>\n",
       "      <td>Ecuador</td>\n",
       "      <td>El Oro, Hacienda de Oro</td>\n",
       "      <td>100.0</td>\n",
       "      <td>NaN</td>\n",
       "      <td>NaN</td>\n",
       "      <td>cardboard, very bitter, floral</td>\n",
       "      <td>1.50</td>\n",
       "    </tr>\n",
       "    <tr>\n",
       "      <th>...</th>\n",
       "      <td>...</td>\n",
       "      <td>...</td>\n",
       "      <td>...</td>\n",
       "      <td>...</td>\n",
       "      <td>...</td>\n",
       "      <td>...</td>\n",
       "      <td>...</td>\n",
       "      <td>...</td>\n",
       "      <td>...</td>\n",
       "      <td>...</td>\n",
       "      <td>...</td>\n",
       "    </tr>\n",
       "    <tr>\n",
       "      <th>2424</th>\n",
       "      <td>153</td>\n",
       "      <td>Vintage Plantations (Tulicorp)</td>\n",
       "      <td>U.S.A.</td>\n",
       "      <td>2007</td>\n",
       "      <td>Ecuador</td>\n",
       "      <td>Los Rios, Rancho Grande 2004/2007</td>\n",
       "      <td>100.0</td>\n",
       "      <td>NaN</td>\n",
       "      <td>NaN</td>\n",
       "      <td>bland, mild fruit, strong bitter</td>\n",
       "      <td>2.00</td>\n",
       "    </tr>\n",
       "    <tr>\n",
       "      <th>2425</th>\n",
       "      <td>153</td>\n",
       "      <td>Vintage Plantations (Tulicorp)</td>\n",
       "      <td>U.S.A.</td>\n",
       "      <td>2007</td>\n",
       "      <td>Ecuador</td>\n",
       "      <td>Los Rios, Rancho Grande 2004/2007</td>\n",
       "      <td>90.0</td>\n",
       "      <td>NaN</td>\n",
       "      <td>NaN</td>\n",
       "      <td>some fruit, strong bitter</td>\n",
       "      <td>2.00</td>\n",
       "    </tr>\n",
       "    <tr>\n",
       "      <th>2426</th>\n",
       "      <td>153</td>\n",
       "      <td>Vintage Plantations (Tulicorp)</td>\n",
       "      <td>U.S.A.</td>\n",
       "      <td>2007</td>\n",
       "      <td>Ecuador</td>\n",
       "      <td>Los Rios, Rancho Grande 2004/2007</td>\n",
       "      <td>75.0</td>\n",
       "      <td>NaN</td>\n",
       "      <td>NaN</td>\n",
       "      <td>cocoa,earthy,very astringent</td>\n",
       "      <td>3.00</td>\n",
       "    </tr>\n",
       "    <tr>\n",
       "      <th>2447</th>\n",
       "      <td>733</td>\n",
       "      <td>Whittakers</td>\n",
       "      <td>New Zealand</td>\n",
       "      <td>2011</td>\n",
       "      <td>Ghana</td>\n",
       "      <td>Ghana</td>\n",
       "      <td>72.0</td>\n",
       "      <td>NaN</td>\n",
       "      <td>NaN</td>\n",
       "      <td>sticky, dry, vanilla dominates</td>\n",
       "      <td>2.50</td>\n",
       "    </tr>\n",
       "    <tr>\n",
       "      <th>2457</th>\n",
       "      <td>1109</td>\n",
       "      <td>Willie's Cacao</td>\n",
       "      <td>U.K.</td>\n",
       "      <td>2013</td>\n",
       "      <td>Indonesia</td>\n",
       "      <td>Java, Indonesian Black</td>\n",
       "      <td>100.0</td>\n",
       "      <td>NaN</td>\n",
       "      <td>NaN</td>\n",
       "      <td>fruit, strong smoke, bitter</td>\n",
       "      <td>2.25</td>\n",
       "    </tr>\n",
       "  </tbody>\n",
       "</table>\n",
       "<p>87 rows × 11 columns</p>\n",
       "</div>"
      ],
      "text/plain": [
       "        id                    manufacturer company_location  year_reviewed  \\\n",
       "85    1964                   Amazing Cacao           Russia           2017   \n",
       "86    1964                   Amazing Cacao           Russia           2017   \n",
       "164    486             Artisan du Chocolat             U.K.           2010   \n",
       "293     81                          Bonnat           France           2006   \n",
       "323    341          Bouga Cacao (Tulicorp)          Ecuador           2009   \n",
       "...    ...                             ...              ...            ...   \n",
       "2424   153  Vintage Plantations (Tulicorp)           U.S.A.           2007   \n",
       "2425   153  Vintage Plantations (Tulicorp)           U.S.A.           2007   \n",
       "2426   153  Vintage Plantations (Tulicorp)           U.S.A.           2007   \n",
       "2447   733                      Whittakers      New Zealand           2011   \n",
       "2457  1109                  Willie's Cacao             U.K.           2013   \n",
       "\n",
       "     bean_origin                           bar_name  cocoa_percent  \\\n",
       "85          Peru                            Maranon           70.0   \n",
       "86          Peru                        Platan Bajo           70.0   \n",
       "164    Venezuela                          Venezuela          100.0   \n",
       "293        Blend                        One Hundred          100.0   \n",
       "323      Ecuador            El Oro, Hacienda de Oro          100.0   \n",
       "...          ...                                ...            ...   \n",
       "2424     Ecuador  Los Rios, Rancho Grande 2004/2007          100.0   \n",
       "2425     Ecuador  Los Rios, Rancho Grande 2004/2007           90.0   \n",
       "2426     Ecuador  Los Rios, Rancho Grande 2004/2007           75.0   \n",
       "2447       Ghana                              Ghana           72.0   \n",
       "2457   Indonesia             Java, Indonesian Black          100.0   \n",
       "\n",
       "      num_ingredients ingredients                            review  rating  \n",
       "85                NaN         NaN                  raisins, pungent    3.00  \n",
       "86                NaN         NaN  few grits, blackcherry, licorice    3.50  \n",
       "164               NaN         NaN           very nutty, very bitter    1.75  \n",
       "293               NaN         NaN               acidic, bitter, dry    1.50  \n",
       "323               NaN         NaN    cardboard, very bitter, floral    1.50  \n",
       "...               ...         ...                               ...     ...  \n",
       "2424              NaN         NaN  bland, mild fruit, strong bitter    2.00  \n",
       "2425              NaN         NaN         some fruit, strong bitter    2.00  \n",
       "2426              NaN         NaN      cocoa,earthy,very astringent    3.00  \n",
       "2447              NaN         NaN    sticky, dry, vanilla dominates    2.50  \n",
       "2457              NaN         NaN       fruit, strong smoke, bitter    2.25  \n",
       "\n",
       "[87 rows x 11 columns]"
      ]
     },
     "execution_count": 7,
     "metadata": {},
     "output_type": "execute_result"
    }
   ],
   "source": [
    "df_nan"
   ]
  },
  {
   "cell_type": "code",
   "execution_count": 8,
   "id": "24537be6",
   "metadata": {},
   "outputs": [],
   "source": [
    "# dropping all 87 missing values because it is only 0.03% of dataset\n",
    "df.dropna(inplace = True)"
   ]
  },
  {
   "cell_type": "code",
   "execution_count": 9,
   "id": "6a21fb16",
   "metadata": {},
   "outputs": [
    {
     "data": {
      "text/plain": [
       "id                  0\n",
       "manufacturer        0\n",
       "company_location    0\n",
       "year_reviewed       0\n",
       "bean_origin         0\n",
       "bar_name            0\n",
       "cocoa_percent       0\n",
       "num_ingredients     0\n",
       "ingredients         0\n",
       "review              0\n",
       "rating              0\n",
       "dtype: int64"
      ]
     },
     "execution_count": 9,
     "metadata": {},
     "output_type": "execute_result"
    }
   ],
   "source": [
    "df.isnull().sum()"
   ]
  },
  {
   "cell_type": "code",
   "execution_count": 10,
   "id": "cbd598a1",
   "metadata": {},
   "outputs": [],
   "source": [
    "# Checking mixed data types\n",
    "for col in df.columns.tolist():\n",
    "  weird = (df[[col]].applymap(type) != df[[col]].iloc[0].apply(type)).any(axis = 1)\n",
    "  if len (df[weird]) > 0:\n",
    "    print (col)"
   ]
  },
  {
   "cell_type": "code",
   "execution_count": 11,
   "id": "d0e49d25",
   "metadata": {},
   "outputs": [],
   "source": [
    "# Checking duplicates\n",
    "df_dups = df[df.duplicated()]"
   ]
  },
  {
   "cell_type": "code",
   "execution_count": 12,
   "id": "4098030f",
   "metadata": {},
   "outputs": [
    {
     "data": {
      "text/html": [
       "<div>\n",
       "<style scoped>\n",
       "    .dataframe tbody tr th:only-of-type {\n",
       "        vertical-align: middle;\n",
       "    }\n",
       "\n",
       "    .dataframe tbody tr th {\n",
       "        vertical-align: top;\n",
       "    }\n",
       "\n",
       "    .dataframe thead th {\n",
       "        text-align: right;\n",
       "    }\n",
       "</style>\n",
       "<table border=\"1\" class=\"dataframe\">\n",
       "  <thead>\n",
       "    <tr style=\"text-align: right;\">\n",
       "      <th></th>\n",
       "      <th>id</th>\n",
       "      <th>manufacturer</th>\n",
       "      <th>company_location</th>\n",
       "      <th>year_reviewed</th>\n",
       "      <th>bean_origin</th>\n",
       "      <th>bar_name</th>\n",
       "      <th>cocoa_percent</th>\n",
       "      <th>num_ingredients</th>\n",
       "      <th>ingredients</th>\n",
       "      <th>review</th>\n",
       "      <th>rating</th>\n",
       "    </tr>\n",
       "  </thead>\n",
       "  <tbody>\n",
       "  </tbody>\n",
       "</table>\n",
       "</div>"
      ],
      "text/plain": [
       "Empty DataFrame\n",
       "Columns: [id, manufacturer, company_location, year_reviewed, bean_origin, bar_name, cocoa_percent, num_ingredients, ingredients, review, rating]\n",
       "Index: []"
      ]
     },
     "execution_count": 12,
     "metadata": {},
     "output_type": "execute_result"
    }
   ],
   "source": [
    "# Checking duplicates result\n",
    "df_dups"
   ]
  },
  {
   "cell_type": "code",
   "execution_count": 13,
   "id": "3f7d4ceb",
   "metadata": {
    "scrolled": true
   },
   "outputs": [
    {
     "data": {
      "text/plain": [
       "id                    int64\n",
       "manufacturer         object\n",
       "company_location     object\n",
       "year_reviewed         int64\n",
       "bean_origin          object\n",
       "bar_name             object\n",
       "cocoa_percent       float64\n",
       "num_ingredients     float64\n",
       "ingredients          object\n",
       "review               object\n",
       "rating              float64\n",
       "dtype: object"
      ]
     },
     "execution_count": 13,
     "metadata": {},
     "output_type": "execute_result"
    }
   ],
   "source": [
    "# Checking data types\n",
    "df.dtypes"
   ]
  },
  {
   "cell_type": "code",
   "execution_count": 14,
   "id": "d1e2dabc",
   "metadata": {
    "scrolled": true
   },
   "outputs": [
    {
     "data": {
      "text/plain": [
       "Soma                      56\n",
       "Fresco                    39\n",
       "Arete                     32\n",
       "Bonnat                    29\n",
       "A. Morin                  26\n",
       "                          ..\n",
       "Islands Chocolate          1\n",
       "Indah                      1\n",
       "Bouga Cacao (Tulicorp)     1\n",
       "Honest                     1\n",
       "Kin + Pod                  1\n",
       "Name: manufacturer, Length: 542, dtype: int64"
      ]
     },
     "execution_count": 14,
     "metadata": {},
     "output_type": "execute_result"
    }
   ],
   "source": [
    "# Counting the \"manufacturer\" values\n",
    "df['manufacturer'].value_counts(dropna = False)"
   ]
  },
  {
   "cell_type": "code",
   "execution_count": 15,
   "id": "466f1b6f",
   "metadata": {},
   "outputs": [
    {
     "data": {
      "text/plain": [
       "U.S.A.        1118\n",
       "Canada         174\n",
       "France         168\n",
       "U.K.           124\n",
       "Italy           72\n",
       "              ... \n",
       "Martinique       1\n",
       "Ghana            1\n",
       "Wales            1\n",
       "Suriname         1\n",
       "Russia           1\n",
       "Name: company_location, Length: 67, dtype: int64"
      ]
     },
     "execution_count": 15,
     "metadata": {},
     "output_type": "execute_result"
    }
   ],
   "source": [
    "# Counting the \"company_location\" values\n",
    "df['company_location'].value_counts(dropna = False)"
   ]
  },
  {
   "cell_type": "code",
   "execution_count": 16,
   "id": "dea5597c",
   "metadata": {},
   "outputs": [
    {
     "data": {
      "text/plain": [
       "2015    280\n",
       "2014    243\n",
       "2018    225\n",
       "2016    213\n",
       "2019    193\n",
       "2012    180\n",
       "2013    177\n",
       "2021    175\n",
       "2011    153\n",
       "2009    113\n",
       "2017    103\n",
       "2010     94\n",
       "2008     84\n",
       "2020     81\n",
       "2007     69\n",
       "2006     60\n",
       "Name: year_reviewed, dtype: int64"
      ]
     },
     "execution_count": 16,
     "metadata": {},
     "output_type": "execute_result"
    }
   ],
   "source": [
    "# Counting the \"year_reviewed\" values\n",
    "df['year_reviewed'].value_counts(dropna = False)"
   ]
  },
  {
   "cell_type": "code",
   "execution_count": 17,
   "id": "982b8c9a",
   "metadata": {
    "scrolled": true
   },
   "outputs": [
    {
     "data": {
      "text/plain": [
       "Venezuela             246\n",
       "Peru                  231\n",
       "Dominican Republic    220\n",
       "Ecuador               201\n",
       "Madagascar            171\n",
       "                     ... \n",
       "China                   1\n",
       "Principe                1\n",
       "Sulawesi                1\n",
       "Suriname                1\n",
       "DR Congo                1\n",
       "Name: bean_origin, Length: 62, dtype: int64"
      ]
     },
     "execution_count": 17,
     "metadata": {},
     "output_type": "execute_result"
    }
   ],
   "source": [
    "# Counting the \"bean_origin\" values\n",
    "df['bean_origin'].value_counts(dropna = False)"
   ]
  },
  {
   "cell_type": "code",
   "execution_count": 18,
   "id": "3118ea69",
   "metadata": {},
   "outputs": [
    {
     "data": {
      "text/plain": [
       "Madagascar                               52\n",
       "Ecuador                                  38\n",
       "Peru                                     37\n",
       "Dominican Republic                       36\n",
       "Chuao                                    28\n",
       "                                         ..\n",
       "Kokoa Kamili Coop, Kilombero              1\n",
       "Rio Eni                                   1\n",
       "Goground                                  1\n",
       "Oko Caribe, San Fran. De Mac.,batch A     1\n",
       "Mountains of the Moon                     1\n",
       "Name: bar_name, Length: 1567, dtype: int64"
      ]
     },
     "execution_count": 18,
     "metadata": {},
     "output_type": "execute_result"
    }
   ],
   "source": [
    "# Counting the \"bar_name\" values\n",
    "df['bar_name'].value_counts(dropna = False)"
   ]
  },
  {
   "cell_type": "code",
   "execution_count": 19,
   "id": "5d654fea",
   "metadata": {},
   "outputs": [
    {
     "data": {
      "text/plain": [
       "70.0     1014\n",
       "75.0      307\n",
       "72.0      287\n",
       "80.0       85\n",
       "65.0       82\n",
       "68.0       70\n",
       "74.0       67\n",
       "73.0       66\n",
       "60.0       44\n",
       "71.0       43\n",
       "77.0       41\n",
       "85.0       38\n",
       "76.0       35\n",
       "67.0       34\n",
       "64.0       31\n",
       "66.0       27\n",
       "78.0       21\n",
       "82.0       17\n",
       "62.0       16\n",
       "55.0       15\n",
       "69.0       13\n",
       "63.0       12\n",
       "58.0        8\n",
       "90.0        8\n",
       "88.0        7\n",
       "100.0       7\n",
       "61.0        7\n",
       "81.0        6\n",
       "83.0        5\n",
       "72.5        4\n",
       "84.0        4\n",
       "91.0        3\n",
       "79.0        2\n",
       "73.5        2\n",
       "71.5        2\n",
       "89.0        2\n",
       "56.0        2\n",
       "99.0        1\n",
       "46.0        1\n",
       "53.0        1\n",
       "86.0        1\n",
       "57.0        1\n",
       "60.5        1\n",
       "42.0        1\n",
       "50.0        1\n",
       "87.0        1\n",
       "Name: cocoa_percent, dtype: int64"
      ]
     },
     "execution_count": 19,
     "metadata": {},
     "output_type": "execute_result"
    }
   ],
   "source": [
    "# Counting the \"cocoa_percent\" values\n",
    "df['cocoa_percent'].value_counts(dropna = False)"
   ]
  },
  {
   "cell_type": "code",
   "execution_count": 20,
   "id": "5bcd36b8",
   "metadata": {
    "scrolled": true
   },
   "outputs": [
    {
     "data": {
      "text/plain": [
       "3.0    1023\n",
       "2.0     750\n",
       "4.0     469\n",
       "5.0     191\n",
       "1.0       6\n",
       "6.0       4\n",
       "Name: num_ingredients, dtype: int64"
      ]
     },
     "execution_count": 20,
     "metadata": {},
     "output_type": "execute_result"
    }
   ],
   "source": [
    "# Counting the \"num_ingredients\" values\n",
    "df['num_ingredients'].value_counts(dropna = False)"
   ]
  },
  {
   "cell_type": "code",
   "execution_count": 21,
   "id": "09410af4",
   "metadata": {},
   "outputs": [
    {
     "data": {
      "text/plain": [
       "B,S,C           999\n",
       "B,S             718\n",
       "B,S,C,L         286\n",
       "B,S,C,V,L       184\n",
       "B,S,C,V         141\n",
       "B,S*             31\n",
       "B,S*,C,Sa        20\n",
       "B,S*,C           12\n",
       "B,S,L             8\n",
       "B,S*,C,V          7\n",
       "B                 6\n",
       "B,S,C,V,Sa        6\n",
       "B,S,V,L           5\n",
       "B,S,C,Sa          5\n",
       "B,S,C,V,L,Sa      4\n",
       "B,S,V             3\n",
       "B,S*,V,L          3\n",
       "B,S*,C,L          2\n",
       "B,S*,Sa           1\n",
       "B,C               1\n",
       "B,S,C,L,Sa        1\n",
       "Name: ingredients, dtype: int64"
      ]
     },
     "execution_count": 21,
     "metadata": {},
     "output_type": "execute_result"
    }
   ],
   "source": [
    "# Counting the \"ingredients\" values\n",
    "df['ingredients'].value_counts(dropna = False)"
   ]
  },
  {
   "cell_type": "code",
   "execution_count": 22,
   "id": "56f71103",
   "metadata": {},
   "outputs": [
    {
     "data": {
      "text/plain": [
       "spicy, cocoa                 4\n",
       "creamy, nutty, cocoa         4\n",
       "cherry, rich choco           3\n",
       "sandy, sweet, cocoa          3\n",
       "sweet, vanilla, cocoa        3\n",
       "                            ..\n",
       "coarse, woody, roasty        1\n",
       "brownine, nutty              1\n",
       "earthy, floral, cocoa        1\n",
       "simple, mild cocoa, fruit    1\n",
       "muted, roasty, accessible    1\n",
       "Name: review, Length: 2403, dtype: int64"
      ]
     },
     "execution_count": 22,
     "metadata": {},
     "output_type": "execute_result"
    }
   ],
   "source": [
    "# Counting the \"review\" values\n",
    "df['review'].value_counts(dropna = False)"
   ]
  },
  {
   "cell_type": "code",
   "execution_count": 23,
   "id": "ac705706",
   "metadata": {},
   "outputs": [
    {
     "data": {
      "text/plain": [
       "3.50    552\n",
       "3.00    506\n",
       "3.25    453\n",
       "2.75    320\n",
       "3.75    295\n",
       "2.50    156\n",
       "4.00    111\n",
       "2.00     29\n",
       "2.25     14\n",
       "1.50      5\n",
       "1.75      1\n",
       "1.00      1\n",
       "Name: rating, dtype: int64"
      ]
     },
     "execution_count": 23,
     "metadata": {},
     "output_type": "execute_result"
    }
   ],
   "source": [
    "# Counting the \"rating\" values\n",
    "df['rating'].value_counts(dropna = False)"
   ]
  },
  {
   "cell_type": "code",
   "execution_count": 24,
   "id": "9171aebe",
   "metadata": {
    "scrolled": false
   },
   "outputs": [
    {
     "data": {
      "text/html": [
       "<div>\n",
       "<style scoped>\n",
       "    .dataframe tbody tr th:only-of-type {\n",
       "        vertical-align: middle;\n",
       "    }\n",
       "\n",
       "    .dataframe tbody tr th {\n",
       "        vertical-align: top;\n",
       "    }\n",
       "\n",
       "    .dataframe thead th {\n",
       "        text-align: right;\n",
       "    }\n",
       "</style>\n",
       "<table border=\"1\" class=\"dataframe\">\n",
       "  <thead>\n",
       "    <tr style=\"text-align: right;\">\n",
       "      <th></th>\n",
       "      <th>id</th>\n",
       "      <th>year_reviewed</th>\n",
       "      <th>cocoa_percent</th>\n",
       "      <th>num_ingredients</th>\n",
       "      <th>rating</th>\n",
       "    </tr>\n",
       "  </thead>\n",
       "  <tbody>\n",
       "    <tr>\n",
       "      <th>count</th>\n",
       "      <td>2443.000000</td>\n",
       "      <td>2443.000000</td>\n",
       "      <td>2443.000000</td>\n",
       "      <td>2443.000000</td>\n",
       "      <td>2443.00000</td>\n",
       "    </tr>\n",
       "    <tr>\n",
       "      <th>mean</th>\n",
       "      <td>1451.520262</td>\n",
       "      <td>2014.485878</td>\n",
       "      <td>71.496725</td>\n",
       "      <td>3.041343</td>\n",
       "      <td>3.21009</td>\n",
       "    </tr>\n",
       "    <tr>\n",
       "      <th>std</th>\n",
       "      <td>755.521714</td>\n",
       "      <td>3.957507</td>\n",
       "      <td>5.156974</td>\n",
       "      <td>0.913728</td>\n",
       "      <td>0.42837</td>\n",
       "    </tr>\n",
       "    <tr>\n",
       "      <th>min</th>\n",
       "      <td>5.000000</td>\n",
       "      <td>2006.000000</td>\n",
       "      <td>42.000000</td>\n",
       "      <td>1.000000</td>\n",
       "      <td>1.00000</td>\n",
       "    </tr>\n",
       "    <tr>\n",
       "      <th>25%</th>\n",
       "      <td>833.000000</td>\n",
       "      <td>2012.000000</td>\n",
       "      <td>70.000000</td>\n",
       "      <td>2.000000</td>\n",
       "      <td>3.00000</td>\n",
       "    </tr>\n",
       "    <tr>\n",
       "      <th>50%</th>\n",
       "      <td>1474.000000</td>\n",
       "      <td>2015.000000</td>\n",
       "      <td>70.000000</td>\n",
       "      <td>3.000000</td>\n",
       "      <td>3.25000</td>\n",
       "    </tr>\n",
       "    <tr>\n",
       "      <th>75%</th>\n",
       "      <td>2100.000000</td>\n",
       "      <td>2018.000000</td>\n",
       "      <td>74.000000</td>\n",
       "      <td>4.000000</td>\n",
       "      <td>3.50000</td>\n",
       "    </tr>\n",
       "    <tr>\n",
       "      <th>max</th>\n",
       "      <td>2712.000000</td>\n",
       "      <td>2021.000000</td>\n",
       "      <td>100.000000</td>\n",
       "      <td>6.000000</td>\n",
       "      <td>4.00000</td>\n",
       "    </tr>\n",
       "  </tbody>\n",
       "</table>\n",
       "</div>"
      ],
      "text/plain": [
       "                id  year_reviewed  cocoa_percent  num_ingredients      rating\n",
       "count  2443.000000    2443.000000    2443.000000      2443.000000  2443.00000\n",
       "mean   1451.520262    2014.485878      71.496725         3.041343     3.21009\n",
       "std     755.521714       3.957507       5.156974         0.913728     0.42837\n",
       "min       5.000000    2006.000000      42.000000         1.000000     1.00000\n",
       "25%     833.000000    2012.000000      70.000000         2.000000     3.00000\n",
       "50%    1474.000000    2015.000000      70.000000         3.000000     3.25000\n",
       "75%    2100.000000    2018.000000      74.000000         4.000000     3.50000\n",
       "max    2712.000000    2021.000000     100.000000         6.000000     4.00000"
      ]
     },
     "execution_count": 24,
     "metadata": {},
     "output_type": "execute_result"
    }
   ],
   "source": [
    "# Checking descriptive stats of dataset\n",
    "df.describe()"
   ]
  },
  {
   "cell_type": "code",
   "execution_count": 25,
   "id": "200b787d",
   "metadata": {},
   "outputs": [
    {
     "data": {
      "text/html": [
       "<div>\n",
       "<style scoped>\n",
       "    .dataframe tbody tr th:only-of-type {\n",
       "        vertical-align: middle;\n",
       "    }\n",
       "\n",
       "    .dataframe tbody tr th {\n",
       "        vertical-align: top;\n",
       "    }\n",
       "\n",
       "    .dataframe thead th {\n",
       "        text-align: right;\n",
       "    }\n",
       "</style>\n",
       "<table border=\"1\" class=\"dataframe\">\n",
       "  <thead>\n",
       "    <tr style=\"text-align: right;\">\n",
       "      <th></th>\n",
       "      <th>id</th>\n",
       "      <th>manufacturer</th>\n",
       "      <th>company_location</th>\n",
       "      <th>year_reviewed</th>\n",
       "      <th>bean_origin</th>\n",
       "      <th>bar_name</th>\n",
       "      <th>cocoa_percent</th>\n",
       "      <th>num_ingredients</th>\n",
       "      <th>ingredients</th>\n",
       "      <th>review</th>\n",
       "      <th>rating</th>\n",
       "    </tr>\n",
       "  </thead>\n",
       "  <tbody>\n",
       "    <tr>\n",
       "      <th>0</th>\n",
       "      <td>2454</td>\n",
       "      <td>5150</td>\n",
       "      <td>U.S.A.</td>\n",
       "      <td>2019</td>\n",
       "      <td>Tanzania</td>\n",
       "      <td>Kokoa Kamili, batch 1</td>\n",
       "      <td>76.0</td>\n",
       "      <td>3.0</td>\n",
       "      <td>B,S,C</td>\n",
       "      <td>rich cocoa, fatty, bready</td>\n",
       "      <td>3.25</td>\n",
       "    </tr>\n",
       "    <tr>\n",
       "      <th>1</th>\n",
       "      <td>2458</td>\n",
       "      <td>5150</td>\n",
       "      <td>U.S.A.</td>\n",
       "      <td>2019</td>\n",
       "      <td>Dominican Republic</td>\n",
       "      <td>Zorzal, batch 1</td>\n",
       "      <td>76.0</td>\n",
       "      <td>3.0</td>\n",
       "      <td>B,S,C</td>\n",
       "      <td>cocoa, vegetal, savory</td>\n",
       "      <td>3.50</td>\n",
       "    </tr>\n",
       "    <tr>\n",
       "      <th>2</th>\n",
       "      <td>2454</td>\n",
       "      <td>5150</td>\n",
       "      <td>U.S.A.</td>\n",
       "      <td>2019</td>\n",
       "      <td>Madagascar</td>\n",
       "      <td>Bejofo Estate, batch 1</td>\n",
       "      <td>76.0</td>\n",
       "      <td>3.0</td>\n",
       "      <td>B,S,C</td>\n",
       "      <td>cocoa, blackberry, full body</td>\n",
       "      <td>3.75</td>\n",
       "    </tr>\n",
       "    <tr>\n",
       "      <th>3</th>\n",
       "      <td>2542</td>\n",
       "      <td>5150</td>\n",
       "      <td>U.S.A.</td>\n",
       "      <td>2021</td>\n",
       "      <td>Fiji</td>\n",
       "      <td>Matasawalevu, batch 1</td>\n",
       "      <td>68.0</td>\n",
       "      <td>3.0</td>\n",
       "      <td>B,S,C</td>\n",
       "      <td>chewy, off, rubbery</td>\n",
       "      <td>3.00</td>\n",
       "    </tr>\n",
       "    <tr>\n",
       "      <th>4</th>\n",
       "      <td>2546</td>\n",
       "      <td>5150</td>\n",
       "      <td>U.S.A.</td>\n",
       "      <td>2021</td>\n",
       "      <td>Venezuela</td>\n",
       "      <td>Sur del Lago, batch 1</td>\n",
       "      <td>72.0</td>\n",
       "      <td>3.0</td>\n",
       "      <td>B,S,C</td>\n",
       "      <td>fatty, earthy, moss, nutty,chalky</td>\n",
       "      <td>3.00</td>\n",
       "    </tr>\n",
       "  </tbody>\n",
       "</table>\n",
       "</div>"
      ],
      "text/plain": [
       "     id manufacturer company_location  year_reviewed         bean_origin  \\\n",
       "0  2454         5150           U.S.A.           2019            Tanzania   \n",
       "1  2458         5150           U.S.A.           2019  Dominican Republic   \n",
       "2  2454         5150           U.S.A.           2019          Madagascar   \n",
       "3  2542         5150           U.S.A.           2021                Fiji   \n",
       "4  2546         5150           U.S.A.           2021           Venezuela   \n",
       "\n",
       "                 bar_name  cocoa_percent  num_ingredients ingredients  \\\n",
       "0   Kokoa Kamili, batch 1           76.0              3.0       B,S,C   \n",
       "1         Zorzal, batch 1           76.0              3.0       B,S,C   \n",
       "2  Bejofo Estate, batch 1           76.0              3.0       B,S,C   \n",
       "3   Matasawalevu, batch 1           68.0              3.0       B,S,C   \n",
       "4   Sur del Lago, batch 1           72.0              3.0       B,S,C   \n",
       "\n",
       "                              review  rating  \n",
       "0          rich cocoa, fatty, bready    3.25  \n",
       "1             cocoa, vegetal, savory    3.50  \n",
       "2       cocoa, blackberry, full body    3.75  \n",
       "3                chewy, off, rubbery    3.00  \n",
       "4  fatty, earthy, moss, nutty,chalky    3.00  "
      ]
     },
     "execution_count": 25,
     "metadata": {},
     "output_type": "execute_result"
    }
   ],
   "source": [
    "df.head()"
   ]
  },
  {
   "cell_type": "markdown",
   "id": "35267ce0",
   "metadata": {},
   "source": [
    "### *** GROUPING DATA"
   ]
  },
  {
   "cell_type": "code",
   "execution_count": 26,
   "id": "6ef5d44b",
   "metadata": {
    "scrolled": true
   },
   "outputs": [
    {
     "data": {
      "text/html": [
       "<div>\n",
       "<style scoped>\n",
       "    .dataframe tbody tr th:only-of-type {\n",
       "        vertical-align: middle;\n",
       "    }\n",
       "\n",
       "    .dataframe tbody tr th {\n",
       "        vertical-align: top;\n",
       "    }\n",
       "\n",
       "    .dataframe thead tr th {\n",
       "        text-align: left;\n",
       "    }\n",
       "\n",
       "    .dataframe thead tr:last-of-type th {\n",
       "        text-align: right;\n",
       "    }\n",
       "</style>\n",
       "<table border=\"1\" class=\"dataframe\">\n",
       "  <thead>\n",
       "    <tr>\n",
       "      <th></th>\n",
       "      <th>rating</th>\n",
       "    </tr>\n",
       "    <tr>\n",
       "      <th></th>\n",
       "      <th>mean</th>\n",
       "    </tr>\n",
       "    <tr>\n",
       "      <th>company_location</th>\n",
       "      <th></th>\n",
       "    </tr>\n",
       "  </thead>\n",
       "  <tbody>\n",
       "    <tr>\n",
       "      <th>Amsterdam</th>\n",
       "      <td>3.312500</td>\n",
       "    </tr>\n",
       "    <tr>\n",
       "      <th>Argentina</th>\n",
       "      <td>3.500000</td>\n",
       "    </tr>\n",
       "    <tr>\n",
       "      <th>Australia</th>\n",
       "      <td>3.367647</td>\n",
       "    </tr>\n",
       "    <tr>\n",
       "      <th>Austria</th>\n",
       "      <td>3.258333</td>\n",
       "    </tr>\n",
       "    <tr>\n",
       "      <th>Belgium</th>\n",
       "      <td>3.179167</td>\n",
       "    </tr>\n",
       "  </tbody>\n",
       "</table>\n",
       "</div>"
      ],
      "text/plain": [
       "                    rating\n",
       "                      mean\n",
       "company_location          \n",
       "Amsterdam         3.312500\n",
       "Argentina         3.500000\n",
       "Australia         3.367647\n",
       "Austria           3.258333\n",
       "Belgium           3.179167"
      ]
     },
     "execution_count": 26,
     "metadata": {},
     "output_type": "execute_result"
    }
   ],
   "source": [
    "# Grouping and aggregating data\n",
    "df.groupby('company_location').agg({'rating':['mean']}).head()"
   ]
  },
  {
   "cell_type": "code",
   "execution_count": 27,
   "id": "7f6c2007",
   "metadata": {},
   "outputs": [],
   "source": [
    "df['location_m_rating'] = df.groupby(['company_location'])['rating'].transform(np.mean)"
   ]
  },
  {
   "cell_type": "code",
   "execution_count": 28,
   "id": "11e0c017",
   "metadata": {},
   "outputs": [
    {
     "data": {
      "text/html": [
       "<div>\n",
       "<style scoped>\n",
       "    .dataframe tbody tr th:only-of-type {\n",
       "        vertical-align: middle;\n",
       "    }\n",
       "\n",
       "    .dataframe tbody tr th {\n",
       "        vertical-align: top;\n",
       "    }\n",
       "\n",
       "    .dataframe thead th {\n",
       "        text-align: right;\n",
       "    }\n",
       "</style>\n",
       "<table border=\"1\" class=\"dataframe\">\n",
       "  <thead>\n",
       "    <tr style=\"text-align: right;\">\n",
       "      <th></th>\n",
       "      <th>id</th>\n",
       "      <th>manufacturer</th>\n",
       "      <th>company_location</th>\n",
       "      <th>year_reviewed</th>\n",
       "      <th>bean_origin</th>\n",
       "      <th>bar_name</th>\n",
       "      <th>cocoa_percent</th>\n",
       "      <th>num_ingredients</th>\n",
       "      <th>ingredients</th>\n",
       "      <th>review</th>\n",
       "      <th>rating</th>\n",
       "      <th>location_m_rating</th>\n",
       "    </tr>\n",
       "  </thead>\n",
       "  <tbody>\n",
       "    <tr>\n",
       "      <th>0</th>\n",
       "      <td>2454</td>\n",
       "      <td>5150</td>\n",
       "      <td>U.S.A.</td>\n",
       "      <td>2019</td>\n",
       "      <td>Tanzania</td>\n",
       "      <td>Kokoa Kamili, batch 1</td>\n",
       "      <td>76.0</td>\n",
       "      <td>3.0</td>\n",
       "      <td>B,S,C</td>\n",
       "      <td>rich cocoa, fatty, bready</td>\n",
       "      <td>3.25</td>\n",
       "      <td>3.195662</td>\n",
       "    </tr>\n",
       "    <tr>\n",
       "      <th>1</th>\n",
       "      <td>2458</td>\n",
       "      <td>5150</td>\n",
       "      <td>U.S.A.</td>\n",
       "      <td>2019</td>\n",
       "      <td>Dominican Republic</td>\n",
       "      <td>Zorzal, batch 1</td>\n",
       "      <td>76.0</td>\n",
       "      <td>3.0</td>\n",
       "      <td>B,S,C</td>\n",
       "      <td>cocoa, vegetal, savory</td>\n",
       "      <td>3.50</td>\n",
       "      <td>3.195662</td>\n",
       "    </tr>\n",
       "    <tr>\n",
       "      <th>2</th>\n",
       "      <td>2454</td>\n",
       "      <td>5150</td>\n",
       "      <td>U.S.A.</td>\n",
       "      <td>2019</td>\n",
       "      <td>Madagascar</td>\n",
       "      <td>Bejofo Estate, batch 1</td>\n",
       "      <td>76.0</td>\n",
       "      <td>3.0</td>\n",
       "      <td>B,S,C</td>\n",
       "      <td>cocoa, blackberry, full body</td>\n",
       "      <td>3.75</td>\n",
       "      <td>3.195662</td>\n",
       "    </tr>\n",
       "    <tr>\n",
       "      <th>3</th>\n",
       "      <td>2542</td>\n",
       "      <td>5150</td>\n",
       "      <td>U.S.A.</td>\n",
       "      <td>2021</td>\n",
       "      <td>Fiji</td>\n",
       "      <td>Matasawalevu, batch 1</td>\n",
       "      <td>68.0</td>\n",
       "      <td>3.0</td>\n",
       "      <td>B,S,C</td>\n",
       "      <td>chewy, off, rubbery</td>\n",
       "      <td>3.00</td>\n",
       "      <td>3.195662</td>\n",
       "    </tr>\n",
       "    <tr>\n",
       "      <th>4</th>\n",
       "      <td>2546</td>\n",
       "      <td>5150</td>\n",
       "      <td>U.S.A.</td>\n",
       "      <td>2021</td>\n",
       "      <td>Venezuela</td>\n",
       "      <td>Sur del Lago, batch 1</td>\n",
       "      <td>72.0</td>\n",
       "      <td>3.0</td>\n",
       "      <td>B,S,C</td>\n",
       "      <td>fatty, earthy, moss, nutty,chalky</td>\n",
       "      <td>3.00</td>\n",
       "      <td>3.195662</td>\n",
       "    </tr>\n",
       "  </tbody>\n",
       "</table>\n",
       "</div>"
      ],
      "text/plain": [
       "     id manufacturer company_location  year_reviewed         bean_origin  \\\n",
       "0  2454         5150           U.S.A.           2019            Tanzania   \n",
       "1  2458         5150           U.S.A.           2019  Dominican Republic   \n",
       "2  2454         5150           U.S.A.           2019          Madagascar   \n",
       "3  2542         5150           U.S.A.           2021                Fiji   \n",
       "4  2546         5150           U.S.A.           2021           Venezuela   \n",
       "\n",
       "                 bar_name  cocoa_percent  num_ingredients ingredients  \\\n",
       "0   Kokoa Kamili, batch 1           76.0              3.0       B,S,C   \n",
       "1         Zorzal, batch 1           76.0              3.0       B,S,C   \n",
       "2  Bejofo Estate, batch 1           76.0              3.0       B,S,C   \n",
       "3   Matasawalevu, batch 1           68.0              3.0       B,S,C   \n",
       "4   Sur del Lago, batch 1           72.0              3.0       B,S,C   \n",
       "\n",
       "                              review  rating  location_m_rating  \n",
       "0          rich cocoa, fatty, bready    3.25           3.195662  \n",
       "1             cocoa, vegetal, savory    3.50           3.195662  \n",
       "2       cocoa, blackberry, full body    3.75           3.195662  \n",
       "3                chewy, off, rubbery    3.00           3.195662  \n",
       "4  fatty, earthy, moss, nutty,chalky    3.00           3.195662  "
      ]
     },
     "execution_count": 28,
     "metadata": {},
     "output_type": "execute_result"
    }
   ],
   "source": [
    "df.head()"
   ]
  },
  {
   "cell_type": "code",
   "execution_count": 29,
   "id": "09146b4c",
   "metadata": {},
   "outputs": [
    {
     "data": {
      "text/html": [
       "<div>\n",
       "<style scoped>\n",
       "    .dataframe tbody tr th:only-of-type {\n",
       "        vertical-align: middle;\n",
       "    }\n",
       "\n",
       "    .dataframe tbody tr th {\n",
       "        vertical-align: top;\n",
       "    }\n",
       "\n",
       "    .dataframe thead tr th {\n",
       "        text-align: left;\n",
       "    }\n",
       "\n",
       "    .dataframe thead tr:last-of-type th {\n",
       "        text-align: right;\n",
       "    }\n",
       "</style>\n",
       "<table border=\"1\" class=\"dataframe\">\n",
       "  <thead>\n",
       "    <tr>\n",
       "      <th></th>\n",
       "      <th colspan=\"3\" halign=\"left\">cocoa_percent</th>\n",
       "    </tr>\n",
       "    <tr>\n",
       "      <th></th>\n",
       "      <th>mean</th>\n",
       "      <th>min</th>\n",
       "      <th>max</th>\n",
       "    </tr>\n",
       "    <tr>\n",
       "      <th>year_reviewed</th>\n",
       "      <th></th>\n",
       "      <th></th>\n",
       "      <th></th>\n",
       "    </tr>\n",
       "  </thead>\n",
       "  <tbody>\n",
       "    <tr>\n",
       "      <th>2006</th>\n",
       "      <td>69.950000</td>\n",
       "      <td>53.0</td>\n",
       "      <td>99.0</td>\n",
       "    </tr>\n",
       "    <tr>\n",
       "      <th>2007</th>\n",
       "      <td>71.405797</td>\n",
       "      <td>60.0</td>\n",
       "      <td>91.0</td>\n",
       "    </tr>\n",
       "    <tr>\n",
       "      <th>2008</th>\n",
       "      <td>71.857143</td>\n",
       "      <td>55.0</td>\n",
       "      <td>100.0</td>\n",
       "    </tr>\n",
       "    <tr>\n",
       "      <th>2009</th>\n",
       "      <td>70.181416</td>\n",
       "      <td>55.0</td>\n",
       "      <td>91.0</td>\n",
       "    </tr>\n",
       "    <tr>\n",
       "      <th>2010</th>\n",
       "      <td>70.547872</td>\n",
       "      <td>46.0</td>\n",
       "      <td>85.0</td>\n",
       "    </tr>\n",
       "    <tr>\n",
       "      <th>2011</th>\n",
       "      <td>71.150327</td>\n",
       "      <td>55.0</td>\n",
       "      <td>88.0</td>\n",
       "    </tr>\n",
       "    <tr>\n",
       "      <th>2012</th>\n",
       "      <td>71.377778</td>\n",
       "      <td>55.0</td>\n",
       "      <td>90.0</td>\n",
       "    </tr>\n",
       "    <tr>\n",
       "      <th>2013</th>\n",
       "      <td>71.423729</td>\n",
       "      <td>42.0</td>\n",
       "      <td>100.0</td>\n",
       "    </tr>\n",
       "    <tr>\n",
       "      <th>2014</th>\n",
       "      <td>72.166667</td>\n",
       "      <td>55.0</td>\n",
       "      <td>90.0</td>\n",
       "    </tr>\n",
       "    <tr>\n",
       "      <th>2015</th>\n",
       "      <td>71.996429</td>\n",
       "      <td>57.0</td>\n",
       "      <td>100.0</td>\n",
       "    </tr>\n",
       "    <tr>\n",
       "      <th>2016</th>\n",
       "      <td>71.807512</td>\n",
       "      <td>60.0</td>\n",
       "      <td>100.0</td>\n",
       "    </tr>\n",
       "    <tr>\n",
       "      <th>2017</th>\n",
       "      <td>71.543689</td>\n",
       "      <td>60.0</td>\n",
       "      <td>81.0</td>\n",
       "    </tr>\n",
       "    <tr>\n",
       "      <th>2018</th>\n",
       "      <td>71.246667</td>\n",
       "      <td>60.0</td>\n",
       "      <td>85.0</td>\n",
       "    </tr>\n",
       "    <tr>\n",
       "      <th>2019</th>\n",
       "      <td>71.971503</td>\n",
       "      <td>65.0</td>\n",
       "      <td>85.0</td>\n",
       "    </tr>\n",
       "    <tr>\n",
       "      <th>2020</th>\n",
       "      <td>70.740741</td>\n",
       "      <td>65.0</td>\n",
       "      <td>75.0</td>\n",
       "    </tr>\n",
       "    <tr>\n",
       "      <th>2021</th>\n",
       "      <td>71.760000</td>\n",
       "      <td>62.0</td>\n",
       "      <td>100.0</td>\n",
       "    </tr>\n",
       "  </tbody>\n",
       "</table>\n",
       "</div>"
      ],
      "text/plain": [
       "              cocoa_percent             \n",
       "                       mean   min    max\n",
       "year_reviewed                           \n",
       "2006              69.950000  53.0   99.0\n",
       "2007              71.405797  60.0   91.0\n",
       "2008              71.857143  55.0  100.0\n",
       "2009              70.181416  55.0   91.0\n",
       "2010              70.547872  46.0   85.0\n",
       "2011              71.150327  55.0   88.0\n",
       "2012              71.377778  55.0   90.0\n",
       "2013              71.423729  42.0  100.0\n",
       "2014              72.166667  55.0   90.0\n",
       "2015              71.996429  57.0  100.0\n",
       "2016              71.807512  60.0  100.0\n",
       "2017              71.543689  60.0   81.0\n",
       "2018              71.246667  60.0   85.0\n",
       "2019              71.971503  65.0   85.0\n",
       "2020              70.740741  65.0   75.0\n",
       "2021              71.760000  62.0  100.0"
      ]
     },
     "execution_count": 29,
     "metadata": {},
     "output_type": "execute_result"
    }
   ],
   "source": [
    "df.groupby('year_reviewed').agg({'cocoa_percent': ['mean', 'min', 'max']}).head(20)"
   ]
  },
  {
   "cell_type": "code",
   "execution_count": 30,
   "id": "a230cd1b",
   "metadata": {},
   "outputs": [],
   "source": [
    "# Define a function\n",
    "def cocoa_percent(row):\n",
    "\n",
    "  if row['cocoa_percent'] <= 60:\n",
    "    return '0-60% cocoa'\n",
    "  elif (row['cocoa_percent'] > 60) and (row['cocoa_percent'] <= 70):\n",
    "    return '61%-70% cocoa'\n",
    "  elif (row['cocoa_percent'] > 70) and (row['cocoa_percent'] <= 75):\n",
    "    return '71%-75% cocoa'\n",
    "  elif (row['cocoa_percent'] > 75) and (row['cocoa_percent'] <= 90):\n",
    "    return '76%-90% cocoa'\n",
    "  elif row['cocoa_percent'] > 90 and (row['cocoa_percent'] <= 100):\n",
    "    return 'more than 90% cocoa'\n",
    "  else: return 'Not specific'"
   ]
  },
  {
   "cell_type": "code",
   "execution_count": 31,
   "id": "b080c9b2",
   "metadata": {},
   "outputs": [],
   "source": [
    "# Apply the function\n",
    "df['cocoa_range'] = df.apply(cocoa_percent, axis=1)"
   ]
  },
  {
   "cell_type": "code",
   "execution_count": 32,
   "id": "9a1e6b44",
   "metadata": {
    "scrolled": true
   },
   "outputs": [
    {
     "data": {
      "text/plain": [
       "61%-70% cocoa          1307\n",
       "71%-75% cocoa           778\n",
       "76%-90% cocoa           273\n",
       "0-60% cocoa              74\n",
       "more than 90% cocoa      11\n",
       "Name: cocoa_range, dtype: int64"
      ]
     },
     "execution_count": 32,
     "metadata": {},
     "output_type": "execute_result"
    }
   ],
   "source": [
    "df['cocoa_range'].value_counts(dropna = False)"
   ]
  },
  {
   "cell_type": "code",
   "execution_count": 33,
   "id": "f89e0f8f",
   "metadata": {},
   "outputs": [
    {
     "data": {
      "text/html": [
       "<div>\n",
       "<style scoped>\n",
       "    .dataframe tbody tr th:only-of-type {\n",
       "        vertical-align: middle;\n",
       "    }\n",
       "\n",
       "    .dataframe tbody tr th {\n",
       "        vertical-align: top;\n",
       "    }\n",
       "\n",
       "    .dataframe thead th {\n",
       "        text-align: right;\n",
       "    }\n",
       "</style>\n",
       "<table border=\"1\" class=\"dataframe\">\n",
       "  <thead>\n",
       "    <tr style=\"text-align: right;\">\n",
       "      <th></th>\n",
       "      <th>id</th>\n",
       "      <th>manufacturer</th>\n",
       "      <th>company_location</th>\n",
       "      <th>year_reviewed</th>\n",
       "      <th>bean_origin</th>\n",
       "      <th>bar_name</th>\n",
       "      <th>cocoa_percent</th>\n",
       "      <th>num_ingredients</th>\n",
       "      <th>ingredients</th>\n",
       "      <th>review</th>\n",
       "      <th>rating</th>\n",
       "      <th>location_m_rating</th>\n",
       "      <th>cocoa_range</th>\n",
       "    </tr>\n",
       "  </thead>\n",
       "  <tbody>\n",
       "    <tr>\n",
       "      <th>0</th>\n",
       "      <td>2454</td>\n",
       "      <td>5150</td>\n",
       "      <td>U.S.A.</td>\n",
       "      <td>2019</td>\n",
       "      <td>Tanzania</td>\n",
       "      <td>Kokoa Kamili, batch 1</td>\n",
       "      <td>76.0</td>\n",
       "      <td>3.0</td>\n",
       "      <td>B,S,C</td>\n",
       "      <td>rich cocoa, fatty, bready</td>\n",
       "      <td>3.25</td>\n",
       "      <td>3.195662</td>\n",
       "      <td>76%-90% cocoa</td>\n",
       "    </tr>\n",
       "    <tr>\n",
       "      <th>1</th>\n",
       "      <td>2458</td>\n",
       "      <td>5150</td>\n",
       "      <td>U.S.A.</td>\n",
       "      <td>2019</td>\n",
       "      <td>Dominican Republic</td>\n",
       "      <td>Zorzal, batch 1</td>\n",
       "      <td>76.0</td>\n",
       "      <td>3.0</td>\n",
       "      <td>B,S,C</td>\n",
       "      <td>cocoa, vegetal, savory</td>\n",
       "      <td>3.50</td>\n",
       "      <td>3.195662</td>\n",
       "      <td>76%-90% cocoa</td>\n",
       "    </tr>\n",
       "    <tr>\n",
       "      <th>2</th>\n",
       "      <td>2454</td>\n",
       "      <td>5150</td>\n",
       "      <td>U.S.A.</td>\n",
       "      <td>2019</td>\n",
       "      <td>Madagascar</td>\n",
       "      <td>Bejofo Estate, batch 1</td>\n",
       "      <td>76.0</td>\n",
       "      <td>3.0</td>\n",
       "      <td>B,S,C</td>\n",
       "      <td>cocoa, blackberry, full body</td>\n",
       "      <td>3.75</td>\n",
       "      <td>3.195662</td>\n",
       "      <td>76%-90% cocoa</td>\n",
       "    </tr>\n",
       "    <tr>\n",
       "      <th>3</th>\n",
       "      <td>2542</td>\n",
       "      <td>5150</td>\n",
       "      <td>U.S.A.</td>\n",
       "      <td>2021</td>\n",
       "      <td>Fiji</td>\n",
       "      <td>Matasawalevu, batch 1</td>\n",
       "      <td>68.0</td>\n",
       "      <td>3.0</td>\n",
       "      <td>B,S,C</td>\n",
       "      <td>chewy, off, rubbery</td>\n",
       "      <td>3.00</td>\n",
       "      <td>3.195662</td>\n",
       "      <td>61%-70% cocoa</td>\n",
       "    </tr>\n",
       "    <tr>\n",
       "      <th>4</th>\n",
       "      <td>2546</td>\n",
       "      <td>5150</td>\n",
       "      <td>U.S.A.</td>\n",
       "      <td>2021</td>\n",
       "      <td>Venezuela</td>\n",
       "      <td>Sur del Lago, batch 1</td>\n",
       "      <td>72.0</td>\n",
       "      <td>3.0</td>\n",
       "      <td>B,S,C</td>\n",
       "      <td>fatty, earthy, moss, nutty,chalky</td>\n",
       "      <td>3.00</td>\n",
       "      <td>3.195662</td>\n",
       "      <td>71%-75% cocoa</td>\n",
       "    </tr>\n",
       "  </tbody>\n",
       "</table>\n",
       "</div>"
      ],
      "text/plain": [
       "     id manufacturer company_location  year_reviewed         bean_origin  \\\n",
       "0  2454         5150           U.S.A.           2019            Tanzania   \n",
       "1  2458         5150           U.S.A.           2019  Dominican Republic   \n",
       "2  2454         5150           U.S.A.           2019          Madagascar   \n",
       "3  2542         5150           U.S.A.           2021                Fiji   \n",
       "4  2546         5150           U.S.A.           2021           Venezuela   \n",
       "\n",
       "                 bar_name  cocoa_percent  num_ingredients ingredients  \\\n",
       "0   Kokoa Kamili, batch 1           76.0              3.0       B,S,C   \n",
       "1         Zorzal, batch 1           76.0              3.0       B,S,C   \n",
       "2  Bejofo Estate, batch 1           76.0              3.0       B,S,C   \n",
       "3   Matasawalevu, batch 1           68.0              3.0       B,S,C   \n",
       "4   Sur del Lago, batch 1           72.0              3.0       B,S,C   \n",
       "\n",
       "                              review  rating  location_m_rating    cocoa_range  \n",
       "0          rich cocoa, fatty, bready    3.25           3.195662  76%-90% cocoa  \n",
       "1             cocoa, vegetal, savory    3.50           3.195662  76%-90% cocoa  \n",
       "2       cocoa, blackberry, full body    3.75           3.195662  76%-90% cocoa  \n",
       "3                chewy, off, rubbery    3.00           3.195662  61%-70% cocoa  \n",
       "4  fatty, earthy, moss, nutty,chalky    3.00           3.195662  71%-75% cocoa  "
      ]
     },
     "execution_count": 33,
     "metadata": {},
     "output_type": "execute_result"
    }
   ],
   "source": [
    "df.head()"
   ]
  },
  {
   "cell_type": "markdown",
   "id": "c940bb95",
   "metadata": {},
   "source": [
    "### *** VISUALIZING RESULTS"
   ]
  },
  {
   "cell_type": "code",
   "execution_count": 34,
   "id": "960897e1",
   "metadata": {
    "scrolled": true
   },
   "outputs": [
    {
     "data": {
      "image/png": "[encoded data removed]",
      "text/plain": [
       "<Figure size 432x288 with 1 Axes>"
      ]
     },
     "metadata": {},
     "output_type": "display_data"
    }
   ],
   "source": [
    "# Visualizing cocoa range result\n",
    "cocoa_range_1 = df['cocoa_range'].value_counts().plot.pie(autopct = '%1.1f%%')"
   ]
  },
  {
   "cell_type": "code",
   "execution_count": null,
   "id": "67a939e9",
   "metadata": {},
   "outputs": [],
   "source": []
  },
  {
   "cell_type": "code",
   "execution_count": 35,
   "id": "a3510547",
   "metadata": {
    "scrolled": true
   },
   "outputs": [
    {
     "data": {
      "text/html": [
       "<div>\n",
       "<style scoped>\n",
       "    .dataframe tbody tr th:only-of-type {\n",
       "        vertical-align: middle;\n",
       "    }\n",
       "\n",
       "    .dataframe tbody tr th {\n",
       "        vertical-align: top;\n",
       "    }\n",
       "\n",
       "    .dataframe thead th {\n",
       "        text-align: right;\n",
       "    }\n",
       "</style>\n",
       "<table border=\"1\" class=\"dataframe\">\n",
       "  <thead>\n",
       "    <tr style=\"text-align: right;\">\n",
       "      <th></th>\n",
       "      <th>id</th>\n",
       "      <th>manufacturer</th>\n",
       "      <th>company_location</th>\n",
       "      <th>year_reviewed</th>\n",
       "      <th>bean_origin</th>\n",
       "      <th>bar_name</th>\n",
       "      <th>cocoa_percent</th>\n",
       "      <th>num_ingredients</th>\n",
       "      <th>ingredients</th>\n",
       "      <th>review</th>\n",
       "      <th>rating</th>\n",
       "      <th>location_m_rating</th>\n",
       "      <th>cocoa_range</th>\n",
       "    </tr>\n",
       "  </thead>\n",
       "  <tbody>\n",
       "    <tr>\n",
       "      <th>0</th>\n",
       "      <td>2454</td>\n",
       "      <td>5150</td>\n",
       "      <td>U.S.A.</td>\n",
       "      <td>2019</td>\n",
       "      <td>Tanzania</td>\n",
       "      <td>Kokoa Kamili, batch 1</td>\n",
       "      <td>76.0</td>\n",
       "      <td>3.0</td>\n",
       "      <td>B,S,C</td>\n",
       "      <td>rich cocoa, fatty, bready</td>\n",
       "      <td>3.25</td>\n",
       "      <td>3.195662</td>\n",
       "      <td>76%-90% cocoa</td>\n",
       "    </tr>\n",
       "    <tr>\n",
       "      <th>1</th>\n",
       "      <td>2458</td>\n",
       "      <td>5150</td>\n",
       "      <td>U.S.A.</td>\n",
       "      <td>2019</td>\n",
       "      <td>Dominican Republic</td>\n",
       "      <td>Zorzal, batch 1</td>\n",
       "      <td>76.0</td>\n",
       "      <td>3.0</td>\n",
       "      <td>B,S,C</td>\n",
       "      <td>cocoa, vegetal, savory</td>\n",
       "      <td>3.50</td>\n",
       "      <td>3.195662</td>\n",
       "      <td>76%-90% cocoa</td>\n",
       "    </tr>\n",
       "    <tr>\n",
       "      <th>2</th>\n",
       "      <td>2454</td>\n",
       "      <td>5150</td>\n",
       "      <td>U.S.A.</td>\n",
       "      <td>2019</td>\n",
       "      <td>Madagascar</td>\n",
       "      <td>Bejofo Estate, batch 1</td>\n",
       "      <td>76.0</td>\n",
       "      <td>3.0</td>\n",
       "      <td>B,S,C</td>\n",
       "      <td>cocoa, blackberry, full body</td>\n",
       "      <td>3.75</td>\n",
       "      <td>3.195662</td>\n",
       "      <td>76%-90% cocoa</td>\n",
       "    </tr>\n",
       "    <tr>\n",
       "      <th>3</th>\n",
       "      <td>2542</td>\n",
       "      <td>5150</td>\n",
       "      <td>U.S.A.</td>\n",
       "      <td>2021</td>\n",
       "      <td>Fiji</td>\n",
       "      <td>Matasawalevu, batch 1</td>\n",
       "      <td>68.0</td>\n",
       "      <td>3.0</td>\n",
       "      <td>B,S,C</td>\n",
       "      <td>chewy, off, rubbery</td>\n",
       "      <td>3.00</td>\n",
       "      <td>3.195662</td>\n",
       "      <td>61%-70% cocoa</td>\n",
       "    </tr>\n",
       "    <tr>\n",
       "      <th>4</th>\n",
       "      <td>2546</td>\n",
       "      <td>5150</td>\n",
       "      <td>U.S.A.</td>\n",
       "      <td>2021</td>\n",
       "      <td>Venezuela</td>\n",
       "      <td>Sur del Lago, batch 1</td>\n",
       "      <td>72.0</td>\n",
       "      <td>3.0</td>\n",
       "      <td>B,S,C</td>\n",
       "      <td>fatty, earthy, moss, nutty,chalky</td>\n",
       "      <td>3.00</td>\n",
       "      <td>3.195662</td>\n",
       "      <td>71%-75% cocoa</td>\n",
       "    </tr>\n",
       "  </tbody>\n",
       "</table>\n",
       "</div>"
      ],
      "text/plain": [
       "     id manufacturer company_location  year_reviewed         bean_origin  \\\n",
       "0  2454         5150           U.S.A.           2019            Tanzania   \n",
       "1  2458         5150           U.S.A.           2019  Dominican Republic   \n",
       "2  2454         5150           U.S.A.           2019          Madagascar   \n",
       "3  2542         5150           U.S.A.           2021                Fiji   \n",
       "4  2546         5150           U.S.A.           2021           Venezuela   \n",
       "\n",
       "                 bar_name  cocoa_percent  num_ingredients ingredients  \\\n",
       "0   Kokoa Kamili, batch 1           76.0              3.0       B,S,C   \n",
       "1         Zorzal, batch 1           76.0              3.0       B,S,C   \n",
       "2  Bejofo Estate, batch 1           76.0              3.0       B,S,C   \n",
       "3   Matasawalevu, batch 1           68.0              3.0       B,S,C   \n",
       "4   Sur del Lago, batch 1           72.0              3.0       B,S,C   \n",
       "\n",
       "                              review  rating  location_m_rating    cocoa_range  \n",
       "0          rich cocoa, fatty, bready    3.25           3.195662  76%-90% cocoa  \n",
       "1             cocoa, vegetal, savory    3.50           3.195662  76%-90% cocoa  \n",
       "2       cocoa, blackberry, full body    3.75           3.195662  76%-90% cocoa  \n",
       "3                chewy, off, rubbery    3.00           3.195662  61%-70% cocoa  \n",
       "4  fatty, earthy, moss, nutty,chalky    3.00           3.195662  71%-75% cocoa  "
      ]
     },
     "execution_count": 35,
     "metadata": {},
     "output_type": "execute_result"
    }
   ],
   "source": [
    "df.head()"
   ]
  },
  {
   "cell_type": "code",
   "execution_count": 36,
   "id": "2400eed5",
   "metadata": {},
   "outputs": [
    {
     "data": {
      "image/png": "[encoded data removed]",
      "text/plain": [
       "<Figure size 432x288 with 1 Axes>"
      ]
     },
     "metadata": {
      "needs_background": "light"
     },
     "output_type": "display_data"
    }
   ],
   "source": [
    "# creating the chart of perpormance of the years\n",
    "year_performance = df['year_reviewed'].value_counts().sort_index().plot.bar()"
   ]
  },
  {
   "cell_type": "code",
   "execution_count": 37,
   "id": "064fe43c",
   "metadata": {},
   "outputs": [
    {
     "data": {
      "image/png": "[encoded data removed]",
      "text/plain": [
       "<Figure size 432x288 with 1 Axes>"
      ]
     },
     "metadata": {
      "needs_background": "light"
     },
     "output_type": "display_data"
    }
   ],
   "source": [
    "# creating chart for year by cocoa percent\n",
    "cocoa_by_year = sns.scatterplot(x = 'cocoa_percent', y = 'year_reviewed', data = df,)"
   ]
  },
  {
   "cell_type": "code",
   "execution_count": 38,
   "id": "1bb826a4",
   "metadata": {},
   "outputs": [],
   "source": [
    "#creating subset dataset\n",
    "np.random.seed(4)\n",
    "dev = np.random.rand(len(df)) <= 0.7"
   ]
  },
  {
   "cell_type": "code",
   "execution_count": 39,
   "id": "ca568706",
   "metadata": {},
   "outputs": [
    {
     "data": {
      "text/plain": [
       "array([0.81961936, 0.48368452, 0.40829508, 0.33722526, 0.5594967 ,\n",
       "       0.93027048, 0.99508279, 0.8157027 , 0.82657035, 0.64093554])"
      ]
     },
     "execution_count": 39,
     "metadata": {},
     "output_type": "execute_result"
    }
   ],
   "source": [
    "np.random.rand(10)"
   ]
  },
  {
   "cell_type": "code",
   "execution_count": 40,
   "id": "b030d764",
   "metadata": {},
   "outputs": [],
   "source": [
    "# Store 70% of the sample in the dataframe big\n",
    "big = df[dev]"
   ]
  },
  {
   "cell_type": "code",
   "execution_count": 41,
   "id": "880153dd",
   "metadata": {},
   "outputs": [],
   "source": [
    "# Store 30% of the sample in the dataframe small\n",
    "small = df[~dev]"
   ]
  },
  {
   "cell_type": "code",
   "execution_count": 42,
   "id": "d6824711",
   "metadata": {},
   "outputs": [
    {
     "data": {
      "text/plain": [
       "2443"
      ]
     },
     "execution_count": 42,
     "metadata": {},
     "output_type": "execute_result"
    }
   ],
   "source": [
    "# Total dataset\n",
    "len(df)"
   ]
  },
  {
   "cell_type": "code",
   "execution_count": 43,
   "id": "f1711b76",
   "metadata": {},
   "outputs": [
    {
     "data": {
      "text/plain": [
       "742"
      ]
     },
     "execution_count": 43,
     "metadata": {},
     "output_type": "execute_result"
    }
   ],
   "source": [
    "# 30% of dataset\n",
    "len(small)"
   ]
  },
  {
   "cell_type": "code",
   "execution_count": 44,
   "id": "48b3b57b",
   "metadata": {
    "scrolled": true
   },
   "outputs": [
    {
     "data": {
      "text/plain": [
       "1701"
      ]
     },
     "execution_count": 44,
     "metadata": {},
     "output_type": "execute_result"
    }
   ],
   "source": [
    "# 70 % of dataset\n",
    "len(big)"
   ]
  },
  {
   "cell_type": "code",
   "execution_count": 45,
   "id": "66e7c160",
   "metadata": {},
   "outputs": [],
   "source": [
    "# Lets see the 30% of dataset result of 'num_ingredients' & 'rating'\n",
    "df_small = small[['num_ingredients','rating']]"
   ]
  },
  {
   "cell_type": "code",
   "execution_count": 46,
   "id": "20e39733",
   "metadata": {
    "scrolled": true
   },
   "outputs": [
    {
     "data": {
      "image/png": "[encoded data removed]",
      "text/plain": [
       "<Figure size 432x288 with 1 Axes>"
      ]
     },
     "metadata": {
      "needs_background": "light"
     },
     "output_type": "display_data"
    }
   ],
   "source": [
    "rating_by_ingredients_small = sns.lineplot(data = df_small, x = 'num_ingredients',y = 'rating')"
   ]
  },
  {
   "cell_type": "code",
   "execution_count": 47,
   "id": "dfd4d514",
   "metadata": {},
   "outputs": [],
   "source": [
    "# Lets see the 70% of dataset result of 'num_ingredients' & 'rating'\n",
    "df_big = big[['num_ingredients','rating']]"
   ]
  },
  {
   "cell_type": "code",
   "execution_count": 48,
   "id": "58803a82",
   "metadata": {},
   "outputs": [
    {
     "data": {
      "image/png": "[encoded data removed]",
      "text/plain": [
       "<Figure size 432x288 with 1 Axes>"
      ]
     },
     "metadata": {
      "needs_background": "light"
     },
     "output_type": "display_data"
    }
   ],
   "source": [
    "rating_by_ingredients_big = sns.lineplot(data = df_big, x = 'num_ingredients',y = 'rating')"
   ]
  },
  {
   "cell_type": "code",
   "execution_count": 49,
   "id": "133273ca",
   "metadata": {},
   "outputs": [],
   "source": [
    "# Lets see the whole dataset result of 'num_ingredients' & 'rating'\n",
    "df_whole = df[['num_ingredients','rating']]"
   ]
  },
  {
   "cell_type": "code",
   "execution_count": 50,
   "id": "a5078e05",
   "metadata": {},
   "outputs": [
    {
     "data": {
      "image/png": "[encoded data removed]",
      "text/plain": [
       "<Figure size 432x288 with 1 Axes>"
      ]
     },
     "metadata": {
      "needs_background": "light"
     },
     "output_type": "display_data"
    }
   ],
   "source": [
    "rating_by_ingredients_df = sns.lineplot(data = df_whole, x = 'num_ingredients',y = 'rating')"
   ]
  },
  {
   "cell_type": "code",
   "execution_count": 51,
   "id": "8c23e90b",
   "metadata": {},
   "outputs": [
    {
     "data": {
      "image/png": "[encoded data removed]",
      "text/plain": [
       "<Figure size 432x288 with 1 Axes>"
      ]
     },
     "metadata": {
      "needs_background": "light"
     },
     "output_type": "display_data"
    }
   ],
   "source": [
    "ingredients = df['ingredients'].value_counts().sort_index().plot.bar()"
   ]
  },
  {
   "cell_type": "code",
   "execution_count": 52,
   "id": "8a5b1a86",
   "metadata": {},
   "outputs": [],
   "source": [
    "# Creating rating_category variable\n",
    "df.loc[(df['rating'] > 3.25), 'rating_category'] = 'High rating'"
   ]
  },
  {
   "cell_type": "code",
   "execution_count": 53,
   "id": "75a5c4e2",
   "metadata": {},
   "outputs": [],
   "source": [
    "df.loc[(df['rating'] <= 3.25) & (df['rating'] > 2), 'rating_category'] = 'Medium rating'"
   ]
  },
  {
   "cell_type": "code",
   "execution_count": 54,
   "id": "bfb08776",
   "metadata": {},
   "outputs": [],
   "source": [
    "df.loc[(df['rating'] <= 2.0), 'rating_category'] = 'Low rating'"
   ]
  },
  {
   "cell_type": "code",
   "execution_count": 55,
   "id": "189711fd",
   "metadata": {},
   "outputs": [
    {
     "data": {
      "text/plain": [
       "Medium rating    1449\n",
       "High rating       958\n",
       "Low rating         36\n",
       "Name: rating_category, dtype: int64"
      ]
     },
     "execution_count": 55,
     "metadata": {},
     "output_type": "execute_result"
    }
   ],
   "source": [
    "# Counting each rating category\n",
    "df['rating_category'].value_counts(dropna = False)"
   ]
  },
  {
   "cell_type": "code",
   "execution_count": 56,
   "id": "7bfab620",
   "metadata": {},
   "outputs": [
    {
     "data": {
      "image/png": "[encoded data removed]",
      "text/plain": [
       "<Figure size 469.725x360 with 1 Axes>"
      ]
     },
     "metadata": {},
     "output_type": "display_data"
    }
   ],
   "source": [
    "# Create a categorical plot in seaborn using the sales categories\n",
    "\n",
    "sns.set(style=\"ticks\")\n",
    "plottwo = sns.catplot(x='num_ingredients', y='year_reviewed', hue='rating_category', data=df)"
   ]
  },
  {
   "cell_type": "code",
   "execution_count": 57,
   "id": "4004ccc5",
   "metadata": {},
   "outputs": [
    {
     "data": {
      "image/png": "[encoded data removed]",
      "text/plain": [
       "<Figure size 457.425x360 with 1 Axes>"
      ]
     },
     "metadata": {},
     "output_type": "display_data"
    }
   ],
   "source": [
    "# Create a categorical plot in seaborn using the sales categories\n",
    "\n",
    "sns.set(style=\"ticks\")\n",
    "plottwo = sns.catplot(x='company_location', y='year_reviewed', hue='num_ingredients', data=df, legend='full')"
   ]
  },
  {
   "cell_type": "code",
   "execution_count": 58,
   "id": "26f7fb0a",
   "metadata": {
    "scrolled": true
   },
   "outputs": [
    {
     "data": {
      "text/plain": [
       "Text(0.5, 1.0, 'Relationship of # of ingredients & Year by rating category')"
      ]
     },
     "execution_count": 58,
     "metadata": {},
     "output_type": "execute_result"
    },
    {
     "data": {
      "image/png": "[encoded data removed]",
      "text/plain": [
       "<Figure size 432x288 with 1 Axes>"
      ]
     },
     "metadata": {},
     "output_type": "display_data"
    }
   ],
   "source": [
    "# Create a categorical plot in seaborn using the profit categories\n",
    "\n",
    "sns.set(style=\"ticks\")\n",
    "linetwo = sns.lineplot(x='year_reviewed', y='num_ingredients',  hue='rating_category', data=df, marker=\"o\", legend='full',)\n",
    "plt.title('Relationship of # of ingredients & Year by rating category', fontsize=14, ) # add title"
   ]
  },
  {
   "cell_type": "code",
   "execution_count": 59,
   "id": "cbc0c280",
   "metadata": {},
   "outputs": [
    {
     "data": {
      "text/plain": [
       "Text(0.5, 1.0, 'Relationship of # of ingredients & Year by rating category')"
      ]
     },
     "execution_count": 59,
     "metadata": {},
     "output_type": "execute_result"
    },
    {
     "data": {
      "image/png": "[encoded data removed]",
      "text/plain": [
       "<Figure size 432x288 with 1 Axes>"
      ]
     },
     "metadata": {},
     "output_type": "display_data"
    }
   ],
   "source": [
    "# Create a categorical plot in seaborn using the profit categories\n",
    "\n",
    "sns.set(style=\"ticks\")\n",
    "linetwo = sns.lineplot(x='num_ingredients', y='rating',  hue='rating_category', data=df, marker=\"o\", legend='full',)\n",
    "plt.title('Relationship of # of ingredients & Year by rating category', fontsize=14, ) # add title"
   ]
  },
  {
   "cell_type": "code",
   "execution_count": 60,
   "id": "36b4e04a",
   "metadata": {},
   "outputs": [
    {
     "data": {
      "text/html": [
       "<div>\n",
       "<style scoped>\n",
       "    .dataframe tbody tr th:only-of-type {\n",
       "        vertical-align: middle;\n",
       "    }\n",
       "\n",
       "    .dataframe tbody tr th {\n",
       "        vertical-align: top;\n",
       "    }\n",
       "\n",
       "    .dataframe thead th {\n",
       "        text-align: right;\n",
       "    }\n",
       "</style>\n",
       "<table border=\"1\" class=\"dataframe\">\n",
       "  <thead>\n",
       "    <tr style=\"text-align: right;\">\n",
       "      <th></th>\n",
       "      <th>id</th>\n",
       "      <th>manufacturer</th>\n",
       "      <th>company_location</th>\n",
       "      <th>year_reviewed</th>\n",
       "      <th>bean_origin</th>\n",
       "      <th>bar_name</th>\n",
       "      <th>cocoa_percent</th>\n",
       "      <th>num_ingredients</th>\n",
       "      <th>ingredients</th>\n",
       "      <th>review</th>\n",
       "      <th>rating</th>\n",
       "      <th>location_m_rating</th>\n",
       "      <th>cocoa_range</th>\n",
       "      <th>rating_category</th>\n",
       "    </tr>\n",
       "  </thead>\n",
       "  <tbody>\n",
       "    <tr>\n",
       "      <th>0</th>\n",
       "      <td>2454</td>\n",
       "      <td>5150</td>\n",
       "      <td>U.S.A.</td>\n",
       "      <td>2019</td>\n",
       "      <td>Tanzania</td>\n",
       "      <td>Kokoa Kamili, batch 1</td>\n",
       "      <td>76.0</td>\n",
       "      <td>3.0</td>\n",
       "      <td>B,S,C</td>\n",
       "      <td>rich cocoa, fatty, bready</td>\n",
       "      <td>3.25</td>\n",
       "      <td>3.195662</td>\n",
       "      <td>76%-90% cocoa</td>\n",
       "      <td>Medium rating</td>\n",
       "    </tr>\n",
       "    <tr>\n",
       "      <th>1</th>\n",
       "      <td>2458</td>\n",
       "      <td>5150</td>\n",
       "      <td>U.S.A.</td>\n",
       "      <td>2019</td>\n",
       "      <td>Dominican Republic</td>\n",
       "      <td>Zorzal, batch 1</td>\n",
       "      <td>76.0</td>\n",
       "      <td>3.0</td>\n",
       "      <td>B,S,C</td>\n",
       "      <td>cocoa, vegetal, savory</td>\n",
       "      <td>3.50</td>\n",
       "      <td>3.195662</td>\n",
       "      <td>76%-90% cocoa</td>\n",
       "      <td>High rating</td>\n",
       "    </tr>\n",
       "    <tr>\n",
       "      <th>2</th>\n",
       "      <td>2454</td>\n",
       "      <td>5150</td>\n",
       "      <td>U.S.A.</td>\n",
       "      <td>2019</td>\n",
       "      <td>Madagascar</td>\n",
       "      <td>Bejofo Estate, batch 1</td>\n",
       "      <td>76.0</td>\n",
       "      <td>3.0</td>\n",
       "      <td>B,S,C</td>\n",
       "      <td>cocoa, blackberry, full body</td>\n",
       "      <td>3.75</td>\n",
       "      <td>3.195662</td>\n",
       "      <td>76%-90% cocoa</td>\n",
       "      <td>High rating</td>\n",
       "    </tr>\n",
       "    <tr>\n",
       "      <th>3</th>\n",
       "      <td>2542</td>\n",
       "      <td>5150</td>\n",
       "      <td>U.S.A.</td>\n",
       "      <td>2021</td>\n",
       "      <td>Fiji</td>\n",
       "      <td>Matasawalevu, batch 1</td>\n",
       "      <td>68.0</td>\n",
       "      <td>3.0</td>\n",
       "      <td>B,S,C</td>\n",
       "      <td>chewy, off, rubbery</td>\n",
       "      <td>3.00</td>\n",
       "      <td>3.195662</td>\n",
       "      <td>61%-70% cocoa</td>\n",
       "      <td>Medium rating</td>\n",
       "    </tr>\n",
       "    <tr>\n",
       "      <th>4</th>\n",
       "      <td>2546</td>\n",
       "      <td>5150</td>\n",
       "      <td>U.S.A.</td>\n",
       "      <td>2021</td>\n",
       "      <td>Venezuela</td>\n",
       "      <td>Sur del Lago, batch 1</td>\n",
       "      <td>72.0</td>\n",
       "      <td>3.0</td>\n",
       "      <td>B,S,C</td>\n",
       "      <td>fatty, earthy, moss, nutty,chalky</td>\n",
       "      <td>3.00</td>\n",
       "      <td>3.195662</td>\n",
       "      <td>71%-75% cocoa</td>\n",
       "      <td>Medium rating</td>\n",
       "    </tr>\n",
       "  </tbody>\n",
       "</table>\n",
       "</div>"
      ],
      "text/plain": [
       "     id manufacturer company_location  year_reviewed         bean_origin  \\\n",
       "0  2454         5150           U.S.A.           2019            Tanzania   \n",
       "1  2458         5150           U.S.A.           2019  Dominican Republic   \n",
       "2  2454         5150           U.S.A.           2019          Madagascar   \n",
       "3  2542         5150           U.S.A.           2021                Fiji   \n",
       "4  2546         5150           U.S.A.           2021           Venezuela   \n",
       "\n",
       "                 bar_name  cocoa_percent  num_ingredients ingredients  \\\n",
       "0   Kokoa Kamili, batch 1           76.0              3.0       B,S,C   \n",
       "1         Zorzal, batch 1           76.0              3.0       B,S,C   \n",
       "2  Bejofo Estate, batch 1           76.0              3.0       B,S,C   \n",
       "3   Matasawalevu, batch 1           68.0              3.0       B,S,C   \n",
       "4   Sur del Lago, batch 1           72.0              3.0       B,S,C   \n",
       "\n",
       "                              review  rating  location_m_rating  \\\n",
       "0          rich cocoa, fatty, bready    3.25           3.195662   \n",
       "1             cocoa, vegetal, savory    3.50           3.195662   \n",
       "2       cocoa, blackberry, full body    3.75           3.195662   \n",
       "3                chewy, off, rubbery    3.00           3.195662   \n",
       "4  fatty, earthy, moss, nutty,chalky    3.00           3.195662   \n",
       "\n",
       "     cocoa_range rating_category  \n",
       "0  76%-90% cocoa   Medium rating  \n",
       "1  76%-90% cocoa     High rating  \n",
       "2  76%-90% cocoa     High rating  \n",
       "3  61%-70% cocoa   Medium rating  \n",
       "4  71%-75% cocoa   Medium rating  "
      ]
     },
     "execution_count": 60,
     "metadata": {},
     "output_type": "execute_result"
    }
   ],
   "source": [
    "df.head()"
   ]
  },
  {
   "cell_type": "code",
   "execution_count": 61,
   "id": "8a0b7f1d",
   "metadata": {},
   "outputs": [],
   "source": [
    "# Creating sub dataset\n",
    "sub = df[['year_reviewed', 'cocoa_percent', 'num_ingredients', 'rating']]"
   ]
  },
  {
   "cell_type": "code",
   "execution_count": 62,
   "id": "23170834",
   "metadata": {},
   "outputs": [
    {
     "data": {
      "text/html": [
       "<div>\n",
       "<style scoped>\n",
       "    .dataframe tbody tr th:only-of-type {\n",
       "        vertical-align: middle;\n",
       "    }\n",
       "\n",
       "    .dataframe tbody tr th {\n",
       "        vertical-align: top;\n",
       "    }\n",
       "\n",
       "    .dataframe thead th {\n",
       "        text-align: right;\n",
       "    }\n",
       "</style>\n",
       "<table border=\"1\" class=\"dataframe\">\n",
       "  <thead>\n",
       "    <tr style=\"text-align: right;\">\n",
       "      <th></th>\n",
       "      <th>year_reviewed</th>\n",
       "      <th>cocoa_percent</th>\n",
       "      <th>num_ingredients</th>\n",
       "      <th>rating</th>\n",
       "    </tr>\n",
       "  </thead>\n",
       "  <tbody>\n",
       "    <tr>\n",
       "      <th>year_reviewed</th>\n",
       "      <td>1.000000</td>\n",
       "      <td>0.048043</td>\n",
       "      <td>-0.362956</td>\n",
       "      <td>0.087774</td>\n",
       "    </tr>\n",
       "    <tr>\n",
       "      <th>cocoa_percent</th>\n",
       "      <td>0.048043</td>\n",
       "      <td>1.000000</td>\n",
       "      <td>-0.187468</td>\n",
       "      <td>-0.077173</td>\n",
       "    </tr>\n",
       "    <tr>\n",
       "      <th>num_ingredients</th>\n",
       "      <td>-0.362956</td>\n",
       "      <td>-0.187468</td>\n",
       "      <td>1.000000</td>\n",
       "      <td>-0.098834</td>\n",
       "    </tr>\n",
       "    <tr>\n",
       "      <th>rating</th>\n",
       "      <td>0.087774</td>\n",
       "      <td>-0.077173</td>\n",
       "      <td>-0.098834</td>\n",
       "      <td>1.000000</td>\n",
       "    </tr>\n",
       "  </tbody>\n",
       "</table>\n",
       "</div>"
      ],
      "text/plain": [
       "                 year_reviewed  cocoa_percent  num_ingredients    rating\n",
       "year_reviewed         1.000000       0.048043        -0.362956  0.087774\n",
       "cocoa_percent         0.048043       1.000000        -0.187468 -0.077173\n",
       "num_ingredients      -0.362956      -0.187468         1.000000 -0.098834\n",
       "rating                0.087774      -0.077173        -0.098834  1.000000"
      ]
     },
     "execution_count": 62,
     "metadata": {},
     "output_type": "execute_result"
    }
   ],
   "source": [
    "# Create a correlation matrix using pandas\n",
    "sub.corr()"
   ]
  },
  {
   "cell_type": "code",
   "execution_count": 63,
   "id": "581c00bf",
   "metadata": {},
   "outputs": [
    {
     "data": {
      "image/png": "[encoded data removed]",
      "text/plain": [
       "<Figure size 720x720 with 2 Axes>"
      ]
     },
     "metadata": {},
     "output_type": "display_data"
    }
   ],
   "source": [
    "# Create a correlation heatmap using matplotlib\n",
    "f,ax = plt.subplots(figsize=(10,10))\n",
    "corr = sns.heatmap(sub.corr(), annot = True, ax = ax)"
   ]
  },
  {
   "cell_type": "code",
   "execution_count": 64,
   "id": "5d09b55d",
   "metadata": {},
   "outputs": [],
   "source": [
    "# Lets see the relationship of all variables\n",
    "df_pairplot = df[['year_reviewed', 'cocoa_percent', 'num_ingredients', 'rating']]"
   ]
  },
  {
   "cell_type": "code",
   "execution_count": 65,
   "id": "12c3c494",
   "metadata": {},
   "outputs": [
    {
     "data": {
      "image/png": "[encoded data removed]",
      "text/plain": [
       "<Figure size 720x720 with 20 Axes>"
      ]
     },
     "metadata": {},
     "output_type": "display_data"
    }
   ],
   "source": [
    "pairplot = sns.pairplot(df_pairplot)"
   ]
  },
  {
   "cell_type": "code",
   "execution_count": 66,
   "id": "5a9c6a68",
   "metadata": {},
   "outputs": [],
   "source": [
    "# Lets see the cocoa range status by rating\n",
    "df_5 = pd.crosstab(df['rating'], df['cocoa_range'], dropna = False)"
   ]
  },
  {
   "cell_type": "code",
   "execution_count": 78,
   "id": "00b7e70e",
   "metadata": {
    "scrolled": true
   },
   "outputs": [],
   "source": [
    "df_5 = df_5.plot(kind = 'bar', stacked = True)"
   ]
  },
  {
   "cell_type": "code",
   "execution_count": 72,
   "id": "11431f2c",
   "metadata": {},
   "outputs": [
    {
     "data": {
      "text/plain": [
       "<AxesSubplot:>"
      ]
     },
     "execution_count": 72,
     "metadata": {},
     "output_type": "execute_result"
    },
    {
     "data": {
      "image/png": "[encoded data removed]",
      "text/plain": [
       "<Figure size 432x288 with 1 Axes>"
      ]
     },
     "metadata": {},
     "output_type": "display_data"
    }
   ],
   "source": [
    "sns.violinplot(data=df[['cocoa_range', 'rating']])"
   ]
  },
  {
   "cell_type": "code",
   "execution_count": 73,
   "id": "ef3e949a",
   "metadata": {
    "scrolled": true
   },
   "outputs": [
    {
     "data": {
      "text/plain": [
       "<AxesSubplot:>"
      ]
     },
     "execution_count": 73,
     "metadata": {},
     "output_type": "execute_result"
    },
    {
     "data": {
      "image/png": "[encoded data removed]",
      "text/plain": [
       "<Figure size 432x288 with 1 Axes>"
      ]
     },
     "metadata": {},
     "output_type": "display_data"
    }
   ],
   "source": [
    "sns.boxplot(data=df[['cocoa_range', 'rating']])"
   ]
  },
  {
   "cell_type": "code",
   "execution_count": null,
   "id": "8a222e5b",
   "metadata": {},
   "outputs": [],
   "source": []
  },
  {
   "cell_type": "code",
   "execution_count": 68,
   "id": "a8dc7f63",
   "metadata": {},
   "outputs": [],
   "source": [
    "# Exporting cleaned and visualized dataset\n",
    "df.to_csv(os.path.join(path, 'Data', 'Clean Data', 'choco_clean.csv'))"
   ]
  },
  {
   "cell_type": "code",
   "execution_count": null,
   "id": "2f7bfbd9",
   "metadata": {},
   "outputs": [],
   "source": []
  }
 ],
 "metadata": {
  "kernelspec": {
   "display_name": "Python 3 (ipykernel)",
   "language": "python",
   "name": "python3"
  },
  "language_info": {
   "codemirror_mode": {
    "name": "ipython",
    "version": 3
   },
   "file_extension": ".py",
   "mimetype": "text/x-python",
   "name": "python",
   "nbconvert_exporter": "python",
   "pygments_lexer": "ipython3",
   "version": "3.9.7"
  }
 },
 "nbformat": 4,
 "nbformat_minor": 5
}
